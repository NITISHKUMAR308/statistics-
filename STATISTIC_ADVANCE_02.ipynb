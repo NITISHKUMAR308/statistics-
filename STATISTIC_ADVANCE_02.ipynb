{
  "nbformat": 4,
  "nbformat_minor": 0,
  "metadata": {
    "colab": {
      "private_outputs": true,
      "provenance": []
    },
    "kernelspec": {
      "name": "python3",
      "display_name": "Python 3"
    },
    "language_info": {
      "name": "python"
    }
  },
  "cells": [
    {
      "cell_type": "markdown",
      "source": [
        "### 1. **What is hypothesis testing in statistics?**  \n",
        "Hypothesis testing is a statistical method to determine if there is enough evidence in a sample to infer that a certain condition is true for the entire population.\n",
        "\n",
        "---\n",
        "\n",
        "### 2. **What is the null hypothesis, and how does it differ from the alternative hypothesis?**  \n",
        "- **Null Hypothesis (H₀):** Assumes no effect, difference, or relationship (e.g., \"The treatment has no effect\").  \n",
        "- **Alternative Hypothesis (H₁):** Opposes H₀, suggesting an effect, difference, or relationship exists.  \n",
        "\n",
        "---\n",
        "\n",
        "### 3. **What is the significance level in hypothesis testing, and why is it important?**  \n",
        "The **significance level (α)** is the threshold for rejecting the null hypothesis, typically set at 0.05 or 5%. It represents the probability of making a Type 1 error (rejecting a true null hypothesis).\n",
        "\n",
        "---\n",
        "\n",
        "### 4. **What does a P-value represent in hypothesis testing?**  \n",
        "The **P-value** measures the probability of observing the test results, or more extreme results, under the assumption that the null hypothesis is true.\n",
        "\n",
        "---\n",
        "\n",
        "### 5. **How do you interpret the P-value in hypothesis testing?**  \n",
        "- If **P-value ≤ α**, reject the null hypothesis (evidence supports H₁).  \n",
        "- If **P-value > α**, fail to reject the null hypothesis (insufficient evidence to support H₁).\n",
        "\n",
        "---\n",
        "\n",
        "### 6. **What are Type 1 and Type 2 errors in hypothesis testing?**  \n",
        "- **Type 1 Error:** Rejecting a true null hypothesis (false positive).  \n",
        "- **Type 2 Error:** Failing to reject a false null hypothesis (false negative).\n",
        "\n",
        "---\n",
        "\n",
        "### 7. **What is the difference between a one-tailed and a two-tailed test?**  \n",
        "- **One-tailed test:** Tests for an effect in one direction (e.g., \"greater than\").  \n",
        "- **Two-tailed test:** Tests for an effect in both directions (e.g., \"not equal to\").\n",
        "\n",
        "---\n",
        "\n",
        "### 8. **What is the Z-test, and when is it used?**  \n",
        "A **Z-test** is used to test hypotheses about population means when the sample size is large (n ≥ 30) or the population standard deviation is known.\n",
        "\n",
        "---\n",
        "\n",
        "### 9. **How do you calculate the Z-score, and what does it represent?**  \n",
        "**Z-score = (Sample Mean - Population Mean) / (Standard Error)**  \n",
        "It measures how many standard deviations a data point is from the population mean.\n",
        "\n",
        "---\n",
        "\n",
        "### 10. **What is the T-distribution, and when should it be used instead of the Z-distribution?**  \n",
        "The **T-distribution** is used when the sample size is small (n < 30) and the population standard deviation is unknown.\n",
        "\n",
        "---\n",
        "\n",
        "### 11. **What is the difference between a Z-test and a T-test?**  \n",
        "- **Z-test:** Requires a known population standard deviation; used for large samples.  \n",
        "- **T-test:** Does not require the population standard deviation; suitable for small samples.\n",
        "\n",
        "---\n",
        "\n",
        "### 12. **What is the T-test, and how is it used?**  \n",
        "The **T-test** compares sample means to determine if there is a significant difference between them. It is commonly used for small sample sizes.\n",
        "\n",
        "---\n",
        "\n",
        "### 13. **What is the relationship between the Z-test and T-test?**  \n",
        "Both are used to test hypotheses about means. The Z-test assumes a known population standard deviation, while the T-test uses the sample standard deviation.\n",
        "\n",
        "---\n",
        "\n",
        "### 14. **What is a confidence interval, and how is it used?**  \n",
        "A **confidence interval (CI)** is a range of values within which the true population parameter is likely to fall, based on a specified confidence level (e.g., 95%).\n",
        "\n",
        "---\n",
        "\n",
        "### 15. **What is the margin of error, and how does it affect the confidence interval?**  \n",
        "The **margin of error** represents the range of uncertainty in an estimate. A smaller margin of error leads to a narrower confidence interval.\n",
        "\n",
        "---\n",
        "\n",
        "### 16. **How is Bayes' Theorem used in statistics, and what is its significance?**  \n",
        "Bayes' Theorem calculates the probability of an event based on prior knowledge. It’s significant in updating probabilities with new evidence.\n",
        "\n",
        "---\n",
        "\n",
        "### 17. **What is the Chi-square distribution, and when is it used?**  \n",
        "The **Chi-square distribution** is used in tests for categorical data, such as goodness of fit or independence tests.\n",
        "\n",
        "---\n",
        "\n",
        "### 18. **What is the Chi-square goodness-of-fit test, and how is it applied?**  \n",
        "This test evaluates whether observed frequencies match expected frequencies in one categorical variable.\n",
        "\n",
        "---\n",
        "\n",
        "### 19. **What is the F-distribution, and when is it used in hypothesis testing?**  \n",
        "The **F-distribution** is used in tests comparing variances (e.g., ANOVA, F-tests). It is asymmetric and depends on degrees of freedom.\n",
        "\n",
        "---\n",
        "\n",
        "### 20. **What is an ANOVA test, and what are its assumptions?**  \n",
        "**ANOVA (Analysis of Variance)** compares means across multiple groups.  \n",
        "**Assumptions:**  \n",
        "1. Independence of observations.  \n",
        "2. Normal distribution of data.  \n",
        "3. Homogeneity of variances.\n",
        "\n",
        "---\n",
        "\n",
        "### 21. **What are the different types of ANOVA tests?**  \n",
        "1. **One-way ANOVA:** Tests one independent variable.  \n",
        "2. **Two-way ANOVA:** Tests two independent variables.  \n",
        "3. **Repeated measures ANOVA:** Tests the same subjects under different conditions.\n",
        "\n",
        "---\n",
        "\n",
        "### 22. **What is the F-test, and how does it relate to hypothesis testing?**  \n",
        "The **F-test** compares variances between groups. It is often a preliminary step in ANOVA or regression analysis."
      ],
      "metadata": {
        "id": "s5F0A4wHVjtw"
      }
    },
    {
      "cell_type": "code",
      "source": [
        "import scipy.stats as stats\n",
        "import numpy as np\n",
        "\n",
        "# Sample data\n",
        "sample = [2.1, 2.5, 2.9, 3.0, 2.7, 2.6]\n",
        "population_mean = 2.5\n",
        "population_std = 0.5\n",
        "n = len(sample)\n",
        "\n",
        "# Calculate the Z-statistic\n",
        "sample_mean = np.mean(sample)\n",
        "z_score = (sample_mean - population_mean) / (population_std / np.sqrt(n))\n",
        "\n",
        "# Calculate P-value\n",
        "p_value = 2 * (1 - stats.norm.cdf(abs(z_score)))\n",
        "\n",
        "# Results\n",
        "print(f\"Z-score: {z_score}\")\n",
        "print(f\"P-value: {p_value}\")\n",
        "\n",
        "# Interpretation\n",
        "alpha = 0.05\n",
        "if p_value < alpha:\n",
        "    print(\"Reject the null hypothesis: Significant difference between sample and population mean.\")\n",
        "else:\n",
        "    print(\"Fail to reject the null hypothesis: No significant difference.\")\n"
      ],
      "metadata": {
        "id": "EE7x0aWwVo6g"
      },
      "execution_count": null,
      "outputs": []
    },
    {
      "cell_type": "code",
      "source": [
        "np.random.seed(42)  # For reproducibility\n",
        "data = np.random.normal(50, 10, 100)  # Simulate data with mean=50, std=10, size=100\n",
        "sample_mean = np.mean(data)\n",
        "population_mean = 50\n",
        "population_std = 10\n",
        "\n",
        "z_score = (sample_mean - population_mean) / (population_std / np.sqrt(len(data)))\n",
        "p_value = 2 * (1 - stats.norm.cdf(abs(z_score)))\n",
        "\n",
        "print(f\"Sample Mean: {sample_mean}, Z-score: {z_score}, P-value: {p_value}\")\n"
      ],
      "metadata": {
        "id": "YJ3071seV_g8"
      },
      "execution_count": null,
      "outputs": []
    },
    {
      "cell_type": "code",
      "source": [
        "def one_sample_z_test(sample, population_mean, population_std):\n",
        "    n = len(sample)\n",
        "    sample_mean = np.mean(sample)\n",
        "    z_score = (sample_mean - population_mean) / (population_std / np.sqrt(n))\n",
        "    p_value = 2 * (1 - stats.norm.cdf(abs(z_score)))\n",
        "    return z_score, p_value\n",
        "\n",
        "sample = [10, 12, 11, 14, 13, 15]\n",
        "z, p = one_sample_z_test(sample, 12, 2)\n",
        "\n",
        "print(f\"Z-score: {z}, P-value: {p}\")\n"
      ],
      "metadata": {
        "id": "eSfijBbGWBPv"
      },
      "execution_count": null,
      "outputs": []
    },
    {
      "cell_type": "code",
      "source": [
        "import matplotlib.pyplot as plt\n",
        "\n",
        "# Decision regions for a two-tailed Z-test\n",
        "x = np.linspace(-4, 4, 1000)\n",
        "critical_value = stats.norm.ppf(1 - 0.05/2)  # 95% confidence level\n",
        "plt.plot(x, stats.norm.pdf(x), label=\"Standard Normal Curve\")\n",
        "\n",
        "# Highlight critical regions\n",
        "plt.fill_between(x, 0, stats.norm.pdf(x), where=(x <= -critical_value) | (x >= critical_value), color=\"red\", alpha=0.3)\n",
        "\n",
        "plt.axvline(-critical_value, color=\"red\", linestyle=\"--\", label=\"Critical value (-1.96)\")\n",
        "plt.axvline(critical_value, color=\"red\", linestyle=\"--\", label=\"Critical value (1.96)\")\n",
        "plt.title(\"Two-tailed Z-test Decision Regions\")\n",
        "plt.legend()\n",
        "plt.show()\n"
      ],
      "metadata": {
        "id": "HKwrSbiaWCz3"
      },
      "execution_count": null,
      "outputs": []
    },
    {
      "cell_type": "code",
      "source": [
        "def visualize_errors(alpha, beta):\n",
        "    x = np.linspace(-4, 4, 1000)\n",
        "    plt.plot(x, stats.norm.pdf(x), label=\"Null Distribution (H0)\")\n",
        "    plt.plot(x, stats.norm.pdf(x - 2), label=\"Alternative Distribution (H1)\")\n",
        "\n",
        "    # Type I error (alpha)\n",
        "    plt.fill_between(x, 0, stats.norm.pdf(x), where=(x > stats.norm.ppf(1 - alpha)), color=\"red\", alpha=0.3, label=\"Type I Error (α)\")\n",
        "\n",
        "    # Type II error (beta)\n",
        "    plt.fill_between(x, 0, stats.norm.pdf(x - 2), where=(x < stats.norm.ppf(1 - alpha)), color=\"blue\", alpha=0.3, label=\"Type II Error (β)\")\n",
        "\n",
        "    plt.legend()\n",
        "    plt.title(\"Type I and Type II Errors\")\n",
        "    plt.show()\n",
        "\n",
        "visualize_errors(alpha=0.05, beta=0.2)\n"
      ],
      "metadata": {
        "id": "SWEcmadBWFw4"
      },
      "execution_count": null,
      "outputs": []
    },
    {
      "cell_type": "code",
      "source": [
        "# Independent T-test\n",
        "group1 = [10, 12, 14, 16, 18]\n",
        "group2 = [8, 11, 13, 15, 17]\n",
        "\n",
        "t_stat, p_value = stats.ttest_ind(group1, group2)\n",
        "\n",
        "print(f\"T-statistic: {t_stat}, P-value: {p_value}\")\n"
      ],
      "metadata": {
        "id": "t4Ls9YjfWHzn"
      },
      "execution_count": null,
      "outputs": []
    },
    {
      "cell_type": "code",
      "source": [
        "# Paired T-test\n",
        "before = [20, 25, 30, 35, 40]\n",
        "after = [22, 27, 29, 36, 39]\n",
        "\n",
        "t_stat, p_value = stats.ttest_rel(before, after)\n",
        "print(f\"T-statistic: {t_stat}, P-value: {p_value}\")\n"
      ],
      "metadata": {
        "id": "o3WULYkGWMw2"
      },
      "execution_count": null,
      "outputs": []
    },
    {
      "cell_type": "code",
      "source": [
        "np.random.seed(42)\n",
        "sample_data = np.random.normal(50, 10, 15)\n",
        "\n",
        "# Z-test\n",
        "z_score = (np.mean(sample_data) - 50) / (10 / np.sqrt(len(sample_data)))\n",
        "z_p_value = 2 * (1 - stats.norm.cdf(abs(z_score)))\n",
        "\n",
        "# T-test\n",
        "t_stat, t_p_value = stats.ttest_1samp(sample_data, 50)\n",
        "\n",
        "print(f\"Z-test: Z-score={z_score}, P-value={z_p_value}\")\n",
        "print(f\"T-test: T-stat={t_stat}, P-value={t_p_value}\")\n"
      ],
      "metadata": {
        "id": "JOJqT2qNWOj5"
      },
      "execution_count": null,
      "outputs": []
    },
    {
      "cell_type": "code",
      "source": [
        "def confidence_interval(data, confidence=0.95):\n",
        "    mean = np.mean(data)\n",
        "    std_err = stats.sem(data)\n",
        "    margin = std_err * stats.t.ppf((1 + confidence) / 2, df=len(data) - 1)\n",
        "    return mean - margin, mean + margin\n",
        "\n",
        "sample_data = [12, 14, 16, 18, 20]\n",
        "ci = confidence_interval(sample_data)\n",
        "\n",
        "print(f\"Confidence Interval: {ci}\")\n"
      ],
      "metadata": {
        "id": "g-3Fk3nyWQdN"
      },
      "execution_count": null,
      "outputs": []
    },
    {
      "cell_type": "code",
      "source": [
        "import scipy.stats as stats\n",
        "import numpy as np\n",
        "\n",
        "def calculate_margin_of_error(data, confidence_level=0.95):\n",
        "    n = len(data)\n",
        "    mean = np.mean(data)\n",
        "    std_err = stats.sem(data)  # Standard error\n",
        "    z_score = stats.norm.ppf((1 + confidence_level) / 2)  # Z-value for confidence level\n",
        "    margin_of_error = z_score * std_err\n",
        "    return margin_of_error\n",
        "\n",
        "sample_data = [12, 14, 15, 16, 17, 18, 19]\n",
        "moe = calculate_margin_of_error(sample_data)\n",
        "print(f\"Margin of Error: {moe}\")\n"
      ],
      "metadata": {
        "id": "sj9NfJrRWSnP"
      },
      "execution_count": null,
      "outputs": []
    },
    {
      "cell_type": "code",
      "source": [
        "def bayes_theorem(prior, likelihood, marginal):\n",
        "    posterior = (likelihood * prior) / marginal\n",
        "    return posterior\n",
        "\n",
        "# Example\n",
        "prior = 0.2  # P(A)\n",
        "likelihood = 0.8  # P(B|A)\n",
        "marginal = 0.5  # P(B)\n",
        "\n",
        "posterior = bayes_theorem(prior, likelihood, marginal)\n",
        "print(f\"Posterior Probability: {posterior}\")\n"
      ],
      "metadata": {
        "id": "NQIsolg3WlRX"
      },
      "execution_count": null,
      "outputs": []
    },
    {
      "cell_type": "code",
      "source": [
        "from scipy.stats import chi2_contingency\n",
        "\n",
        "# Contingency table\n",
        "data = [[10, 20, 30], [6, 9, 17]]\n",
        "chi2, p, dof, expected = chi2_contingency(data)\n",
        "\n",
        "print(f\"Chi2 Statistic: {chi2}, P-value: {p}\")\n",
        "print(f\"Degrees of Freedom: {dof}\")\n",
        "print(f\"Expected Frequencies:\\n{expected}\")\n"
      ],
      "metadata": {
        "id": "Eca9flalWmw-"
      },
      "execution_count": null,
      "outputs": []
    },
    {
      "cell_type": "code",
      "source": [
        "def calculate_expected_frequencies(observed):\n",
        "    row_sums = np.sum(observed, axis=1)\n",
        "    col_sums = np.sum(observed, axis=0)\n",
        "    total = np.sum(observed)\n",
        "    expected = np.outer(row_sums, col_sums) / total\n",
        "    return expected\n",
        "\n",
        "observed_data = np.array([[10, 20], [30, 40]])\n",
        "expected_freqs = calculate_expected_frequencies(observed_data)\n",
        "print(f\"Expected Frequencies:\\n{expected_freqs}\")\n"
      ],
      "metadata": {
        "id": "T0RefRkAWoXW"
      },
      "execution_count": null,
      "outputs": []
    },
    {
      "cell_type": "code",
      "source": [
        "from scipy import stats\n",
        "\n",
        "observed = [16, 18, 16, 14, 12, 12]\n",
        "expected_mean = 15\n",
        "\n",
        "t_stat, p_value = stats.ttest_1samp(observed, popmean=expected_mean)\n",
        "print(f\"t-statistic: {t_stat}, P-value: {p_value}\")"
      ],
      "metadata": {
        "id": "5HM966ZIWqkx"
      },
      "execution_count": null,
      "outputs": []
    },
    {
      "cell_type": "code",
      "source": [
        "import matplotlib.pyplot as plt\n",
        "\n",
        "df = 5  # Degrees of freedom\n",
        "x = np.linspace(0, 20, 500)\n",
        "y = stats.chi2.pdf(x, df)\n",
        "\n",
        "plt.plot(x, y, label=f\"Chi-square (df={df})\")\n",
        "plt.title(\"Chi-square Distribution\")\n",
        "plt.xlabel(\"Value\")\n",
        "plt.ylabel(\"Density\")\n",
        "plt.legend()\n",
        "plt.show()\n"
      ],
      "metadata": {
        "id": "WJkRiUDqWssu"
      },
      "execution_count": null,
      "outputs": []
    },
    {
      "cell_type": "code",
      "source": [
        "def f_test(sample1, sample2):\n",
        "    f_stat = np.var(sample1, ddof=1) / np.var(sample2, ddof=1)\n",
        "    dfn = len(sample1) - 1\n",
        "    dfd = len(sample2) - 1\n",
        "    p_value = 1 - stats.f.cdf(f_stat, dfn, dfd)\n",
        "    return f_stat, p_value\n",
        "\n",
        "sample1 = [10, 12, 14, 16, 18]\n",
        "sample2 = [9, 11, 13, 15, 17]\n",
        "f_stat, p = f_test(sample1, sample2)\n",
        "\n",
        "print(f\"F-statistic: {f_stat}, P-value: {p}\")\n"
      ],
      "metadata": {
        "id": "4PDcM8gMW8A2"
      },
      "execution_count": null,
      "outputs": []
    },
    {
      "cell_type": "code",
      "source": [
        "from scipy.stats import f_oneway\n",
        "\n",
        "group1 = [12, 14, 16, 18, 20]\n",
        "group2 = [22, 24, 26, 28, 30]\n",
        "group3 = [32, 34, 36, 38, 40]\n",
        "\n",
        "f_stat, p_value = f_oneway(group1, group2, group3)\n",
        "print(f\"F-statistic: {f_stat}, P-value: {p_value}\")\n"
      ],
      "metadata": {
        "id": "XtAnl9NMW9rX"
      },
      "execution_count": null,
      "outputs": []
    },
    {
      "cell_type": "code",
      "source": [
        "import seaborn as sns\n",
        "import pandas as pd\n",
        "\n",
        "data = {'Group': ['A'] * 5 + ['B'] * 5 + ['C'] * 5,\n",
        "        'Value': [12, 14, 16, 18, 20, 22, 24, 26, 28, 30, 32, 34, 36, 38, 40]}\n",
        "df = pd.DataFrame(data)\n",
        "\n",
        "sns.boxplot(x='Group', y='Value', data=df)\n",
        "plt.title(\"One-way ANOVA Visualization\")\n",
        "plt.show()\n"
      ],
      "metadata": {
        "id": "uKE8oDmvW_Ve"
      },
      "execution_count": null,
      "outputs": []
    },
    {
      "cell_type": "code",
      "source": [
        "from scipy.stats import shapiro, levene\n",
        "\n",
        "def check_anova_assumptions(groups):\n",
        "    # Normality\n",
        "    for i, group in enumerate(groups):\n",
        "        stat, p = shapiro(group)\n",
        "        print(f\"Group {i+1} Normality Test: P-value={p}\")\n",
        "\n",
        "    # Equal Variance\n",
        "    stat, p = levene(*groups)\n",
        "    print(f\"Levene's Test for Equal Variance: P-value={p}\")\n",
        "\n",
        "groups = [[12, 14, 16], [22, 24, 26], [32, 34, 36]]\n",
        "check_anova_assumptions(groups)\n"
      ],
      "metadata": {
        "id": "FmSwNKWEXAvW"
      },
      "execution_count": null,
      "outputs": []
    },
    {
      "cell_type": "code",
      "source": [
        "import statsmodels.api as sm\n",
        "from statsmodels.formula.api import ols\n",
        "import pandas as pd\n",
        "\n",
        "# Example Data: Two factors - 'Factor1' and 'Factor2', dependent variable 'Value'\n",
        "data = {'Factor1': ['A', 'A', 'B', 'B', 'C', 'C'],\n",
        "        'Factor2': ['X', 'Y', 'X', 'Y', 'X', 'Y'],\n",
        "        'Value': [12, 14, 16, 18, 20, 22]}\n",
        "\n",
        "df = pd.DataFrame(data)\n",
        "\n",
        "# Two-way ANOVA model\n",
        "model = ols('Value ~ C(Factor1) + C(Factor2) + C(Factor1):C(Factor2)', data=df).fit()\n",
        "anova_table = sm.stats.anova_lm(model)\n",
        "print(anova_table)\n"
      ],
      "metadata": {
        "id": "NgwZuW36XD4n"
      },
      "execution_count": null,
      "outputs": []
    },
    {
      "cell_type": "code",
      "source": [
        "import numpy as np\n",
        "import matplotlib.pyplot as plt\n",
        "import scipy.stats as stats\n",
        "\n",
        "# Degrees of freedom\n",
        "dfn = 5  # numerator\n",
        "dfd = 2  # denominator\n",
        "\n",
        "# Generate x values\n",
        "x = np.linspace(0, 5, 500)\n",
        "y = stats.f.pdf(x, dfn, dfd)\n",
        "\n",
        "# Plot the F-distribution\n",
        "plt.plot(x, y, label=f\"F-distribution (dfn={dfn}, dfd={dfd})\")\n",
        "plt.title(\"F-distribution\")\n",
        "plt.xlabel(\"Value\")\n",
        "plt.ylabel(\"Density\")\n",
        "plt.legend()\n",
        "plt.show()\n"
      ],
      "metadata": {
        "id": "TXo7BPNxXJH-"
      },
      "execution_count": null,
      "outputs": []
    },
    {
      "cell_type": "code",
      "source": [
        "import seaborn as sns\n",
        "import matplotlib.pyplot as plt\n",
        "\n",
        "# Sample Data for One-way ANOVA\n",
        "group1 = [12, 14, 16, 18, 20]\n",
        "group2 = [22, 24, 26, 28, 30]\n",
        "group3 = [32, 34, 36, 38, 40]\n",
        "\n",
        "data = {'Group': ['A']*5 + ['B']*5 + ['C']*5, 'Value': group1 + group2 + group3}\n",
        "df = pd.DataFrame(data)\n",
        "\n",
        "# One-way ANOVA Test\n",
        "sns.boxplot(x='Group', y='Value', data=df)\n",
        "plt.title(\"One-way ANOVA Test Visualization\")\n",
        "plt.show()\n"
      ],
      "metadata": {
        "id": "JMy2Sb-wXM54"
      },
      "execution_count": null,
      "outputs": []
    },
    {
      "cell_type": "code",
      "source": [
        "import numpy as np\n",
        "from scipy import stats\n",
        "\n",
        "# Simulate random data\n",
        "np.random.seed(0)\n",
        "sample1 = np.random.normal(50, 10, 100)  # Mean 50, SD 10, 100 samples\n",
        "sample2 = np.random.normal(55, 10, 100)  # Mean 55, SD 10, 100 samples\n",
        "\n",
        "# Perform Two-sample T-test\n",
        "t_stat, p_value = stats.ttest_ind(sample1, sample2)\n",
        "print(f\"T-statistic: {t_stat}, P-value: {p_value}\")\n"
      ],
      "metadata": {
        "id": "G6FNdgu8XOtX"
      },
      "execution_count": null,
      "outputs": []
    },
    {
      "cell_type": "code",
      "source": [
        "from scipy.stats import chi2\n",
        "\n",
        "# Sample data and variance\n",
        "sample_data = [10, 12, 14, 16, 18]\n",
        "sample_variance = np.var(sample_data, ddof=1)\n",
        "n = len(sample_data)\n",
        "alpha = 0.05\n",
        "\n",
        "# Chi-square test statistic\n",
        "chi2_stat = (n - 1) * sample_variance / 25  # Assume population variance = 25\n",
        "df = n - 1\n",
        "\n",
        "# Critical value from Chi-square distribution\n",
        "chi2_critical = chi2.ppf(1 - alpha / 2, df)\n",
        "\n",
        "print(f\"Chi2 Statistic: {chi2_stat}, Critical value: {chi2_critical}\")\n"
      ],
      "metadata": {
        "id": "vosAlj3JXVXu"
      },
      "execution_count": null,
      "outputs": []
    },
    {
      "cell_type": "code",
      "source": [
        "import statsmodels.api as sm\n",
        "\n",
        "# Data for two proportions\n",
        "success1 = 60\n",
        "total1 = 100\n",
        "success2 = 50\n",
        "total2 = 100\n",
        "\n",
        "# Proportion 1 and 2\n",
        "p1 = success1 / total1\n",
        "p2 = success2 / total2\n",
        "\n",
        "# Calculate Z-score for comparing proportions\n",
        "z_stat = (p1 - p2) / np.sqrt(p1 * (1 - p1) / total1 + p2 * (1 - p2) / total2)\n",
        "print(f\"Z-statistic: {z_stat}\")\n"
      ],
      "metadata": {
        "id": "CyKt1yUSXW0-"
      },
      "execution_count": null,
      "outputs": []
    },
    {
      "cell_type": "code",
      "source": [
        "from scipy.stats import f\n",
        "\n",
        "# Sample data\n",
        "sample1 = [10, 12, 14, 16, 18]\n",
        "sample2 = [9, 11, 13, 15, 17]\n",
        "\n",
        "# Calculate F-statistic\n",
        "f_stat = np.var(sample1, ddof=1) / np.var(sample2, ddof=1)\n",
        "dfn = len(sample1) - 1\n",
        "dfd = len(sample2) - 1\n",
        "\n",
        "# P-value for the F-test\n",
        "p_value = 1 - f.cdf(f_stat, dfn, dfd)\n",
        "print(f\"F-statistic: {f_stat}, P-value: {p_value}\")\n"
      ],
      "metadata": {
        "id": "iRiyHmAnXYru"
      },
      "execution_count": null,
      "outputs": []
    },
    {
      "cell_type": "code",
      "source": [
        "from scipy.stats import chisquare\n",
        "\n",
        "# Simulated observed data (e.g., dice rolls)\n",
        "observed = [10, 15, 20, 25, 30]\n",
        "expected = [20, 20, 20, 20, 20]\n",
        "\n",
        "# Perform Chi-square goodness of fit test\n",
        "chi2_stat, p_value = chisquare(observed, expected)\n",
        "print(f\"Chi2 Statistic: {chi2_stat}, P-value: {p_value}\")\n"
      ],
      "metadata": {
        "id": "cJX3DXqZXaNe"
      },
      "execution_count": null,
      "outputs": []
    }
  ]
}