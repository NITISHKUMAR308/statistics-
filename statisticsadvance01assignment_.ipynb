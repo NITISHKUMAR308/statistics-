{
  "nbformat": 4,
  "nbformat_minor": 0,
  "metadata": {
    "colab": {
      "private_outputs": true,
      "provenance": []
    },
    "kernelspec": {
      "name": "python3",
      "display_name": "Python 3"
    },
    "language_info": {
      "name": "python"
    }
  },
  "cells": [
    {
      "cell_type": "code",
      "execution_count": null,
      "metadata": {
        "id": "oY59ngWUHZBq"
      },
      "outputs": [],
      "source": []
    },
    {
      "cell_type": "markdown",
      "source": [
        "\n",
        "### 1. **What is a random variable in probability theory?**\n",
        "   A random variable is a numerical outcome of a random process or experiment. It assigns numerical values to each possible outcome of a random event.\n",
        "\n",
        "---\n",
        "\n",
        "### 2. **What are the types of random variables?**\n",
        "   - **Discrete Random Variables**: Take specific, countable values (e.g., 1, 2, 3).\n",
        "   - **Continuous Random Variables**: Take any value within a given range (e.g., 1.5, 2.7, π).\n",
        "\n",
        "---\n",
        "\n",
        "### 3. **What is the difference between discrete and continuous distributions?**\n",
        "   - **Discrete distributions** represent probabilities of discrete random variables (e.g., Binomial, Poisson).\n",
        "   - **Continuous distributions** represent probabilities over continuous ranges, described by probability density functions (e.g., Normal, Uniform).\n",
        "\n",
        "---\n",
        "\n",
        "### 4. **What are probability distribution functions (PDF)?**\n",
        "   A PDF describes the likelihood of a continuous random variable taking a specific value within a range. For discrete random variables, this is referred to as the probability mass function (PMF).\n",
        "\n",
        "---\n",
        "\n",
        "### 5. **How do cumulative distribution functions (CDF) differ from probability distribution functions (PDF)?**\n",
        "   - **PDF**: Shows the probability of a variable taking a specific value (for discrete) or falling within a small range (for continuous).\n",
        "   - **CDF**: Represents the cumulative probability that a variable will be less than or equal to a given value.\n",
        "\n",
        "---\n",
        "\n",
        "### 6. **What is a discrete uniform distribution?**\n",
        "   A discrete uniform distribution assigns equal probabilities to all possible outcomes in a finite set (e.g., rolling a fair die).\n",
        "\n",
        "---\n",
        "\n",
        "### 7. **What are the key properties of a Bernoulli distribution?**\n",
        "   - Only two outcomes: success (1) or failure (0).\n",
        "   - Probability of success: \\( P(X=1) = p \\), and failure: \\( P(X=0) = 1-p \\).\n",
        "   - Mean: \\( p \\), Variance: \\( p(1-p) \\).\n",
        "\n",
        "---\n",
        "\n",
        "### 8. **What is the binomial distribution, and how is it used in probability?**\n",
        "   The binomial distribution models the number of successes in \\( n \\) independent trials with probability \\( p \\) of success in each trial.  \n",
        "   - Mean: \\( np \\), Variance: \\( np(1-p) \\).\n",
        "\n",
        "---\n",
        "\n",
        "### 9. **What is the Poisson distribution and where is it applied?**\n",
        "   The Poisson distribution models the number of events occurring in a fixed interval of time or space, assuming a constant average rate and independence of events.  \n",
        "   Example: Counting the number of calls at a call center.\n",
        "\n",
        "---\n",
        "\n",
        "### 10. **What is a continuous uniform distribution?**\n",
        "   A continuous uniform distribution assigns equal probabilities over an interval \\([a, b]\\), meaning the probability is constant across the range.\n",
        "\n",
        "---\n",
        "\n",
        "### 11. **What are the characteristics of a normal distribution?**\n",
        "   - Symmetrical and bell-shaped.\n",
        "   - Defined by mean (\\( \\mu \\)) and standard deviation (\\( \\sigma \\)).\n",
        "   - Total area under the curve equals 1.\n",
        "\n",
        "---\n",
        "\n",
        "### 12. **What is the standard normal distribution, and why is it important?**\n",
        "   - A standard normal distribution is a normal distribution with mean = 0 and standard deviation = 1.\n",
        "   - It allows for standardizing values (Z-scores) and is widely used in hypothesis testing and confidence intervals.\n",
        "\n",
        "---\n",
        "\n",
        "### 13. **What is the Central Limit Theorem (CLT), and why is it critical in statistics?**\n",
        "   - The CLT states that the sampling distribution of the sample mean approaches a normal distribution as the sample size increases, regardless of the population's distribution.\n",
        "   - It's critical because it enables statistical inference using normal approximation.\n",
        "\n",
        "---\n",
        "\n",
        "### 14. **How does the Central Limit Theorem relate to the normal distribution?**\n",
        "   The CLT shows that averages of independent, identically distributed variables form a normal distribution as the sample size grows.\n",
        "\n",
        "---\n",
        "\n",
        "### 15. **What is the application of Z statistics in hypothesis testing?**\n",
        "   Z statistics are used to compare a sample mean to a population mean or between two sample means under the assumption of normality.\n",
        "\n",
        "---\n",
        "\n",
        "### 16. **How do you calculate a Z-score, and what does it represent?**\n",
        "   \\( Z = \\frac{(X - \\mu)}{\\sigma} \\), where:\n",
        "   - \\( X \\) = observed value\n",
        "   - \\( \\mu \\) = mean\n",
        "   - \\( \\sigma \\) = standard deviation  \n",
        "   It represents how many standard deviations a data point is from the mean.\n",
        "\n",
        "---\n",
        "\n",
        "### 17. **What are point estimates and interval estimates in statistics?**\n",
        "   - **Point Estimate**: A single value (e.g., mean, proportion) as an estimate of a parameter.\n",
        "   - **Interval Estimate**: A range of values (confidence interval) likely containing the parameter.\n",
        "\n",
        "---\n",
        "\n",
        "### 18. **What is the significance of confidence intervals in statistical analysis?**\n",
        "   Confidence intervals provide a range of values within which the true population parameter is likely to lie, with a certain level of confidence (e.g., 95%).\n",
        "\n",
        "---\n",
        "\n",
        "### 19. **What is the relationship between a Z-score and a confidence interval?**\n",
        "   Z-scores determine the critical values for confidence intervals, based on the standard normal distribution.\n",
        "\n",
        "---\n",
        "\n",
        "### 20. **How are Z-scores used to compare different distributions?**\n",
        "   Z-scores standardize data from different distributions, allowing direct comparison by expressing values in terms of standard deviations from their respective means.\n",
        "\n",
        "---\n",
        "\n",
        "### 21. **What are the assumptions for applying the Central Limit Theorem?**\n",
        "   - Independent and identically distributed random variables.\n",
        "   - Finite variance and mean.\n",
        "   - Large enough sample size for approximation to normality.\n",
        "\n",
        "---\n",
        "\n",
        "### 22. **What is the concept of expected value in a probability distribution?**\n",
        "   The expected value is the average outcome of a random variable if an experiment is repeated infinitely.  \n",
        "   \\( E(X) = \\sum [x \\cdot P(x)] \\) for discrete variables.\n",
        "\n",
        "---\n",
        "\n",
        "### 23. **How does a probability distribution relate to the expected outcome of a random variable?**\n",
        "   The expected value is calculated using the probability distribution, showing the long-term average of the random variable."
      ],
      "metadata": {
        "id": "U2InYBLfHlYd"
      }
    },
    {
      "cell_type": "markdown",
      "source": [
        "PRACTICAL QUESTIONS\n"
      ],
      "metadata": {
        "id": "iHGzY98gIDhO"
      }
    },
    {
      "cell_type": "code",
      "source": [
        "import random\n",
        "\n",
        "random_variable = random.random()\n",
        "print(\"Random Variable:\", random_variable)\n"
      ],
      "metadata": {
        "id": "tlOZn87wHvRE"
      },
      "execution_count": null,
      "outputs": []
    },
    {
      "cell_type": "code",
      "source": [
        "import numpy as np\n",
        "import matplotlib.pyplot as plt\n",
        "\n",
        "# Parameters for discrete uniform distribution\n",
        "low, high, size = 1, 6, 1000  # Simulating a fair die\n",
        "\n",
        "# Generate random variables\n",
        "data = np.random.randint(low, high + 1, size)\n",
        "\n",
        "# PMF calculation\n",
        "values, counts = np.unique(data, return_counts=True)\n",
        "pmf = counts / size\n",
        "\n",
        "# Plotting the PMF\n",
        "plt.bar(values, pmf, color='skyblue')\n",
        "plt.title(\"PMF of Discrete Uniform Distribution\")\n",
        "plt.xlabel(\"Value\")\n",
        "plt.ylabel(\"Probability\")\n",
        "plt.show()\n"
      ],
      "metadata": {
        "id": "YuXxC7JuIP8J"
      },
      "execution_count": null,
      "outputs": []
    },
    {
      "cell_type": "code",
      "source": [
        "def bernoulli_pdf(p, x):\n",
        "    if x not in [0, 1]:\n",
        "        return 0\n",
        "    return p if x == 1 else 1 - p\n",
        "\n",
        "# Test the Bernoulli PDF\n",
        "p = 0.7  # Probability of success\n",
        "x = 1    # Outcome\n",
        "print(\"PDF of Bernoulli Distribution:\", bernoulli_pdf(p, x))\n"
      ],
      "metadata": {
        "id": "dqWeS0RHJBZG"
      },
      "execution_count": null,
      "outputs": []
    },
    {
      "cell_type": "code",
      "source": [
        "from scipy.stats import binom\n",
        "\n",
        "# Parameters for Binomial distribution\n",
        "n, p = 10, 0.5\n",
        "data = binom.rvs(n, p, size=1000)\n",
        "\n",
        "# Plot the histogram\n",
        "plt.hist(data, bins=n+1, density=True, color='orange', alpha=0.7)\n",
        "plt.title(\"Binomial Distribution Histogram\")\n",
        "plt.xlabel(\"Number of Successes\")\n",
        "plt.ylabel(\"Probability\")\n",
        "plt.show()\n"
      ],
      "metadata": {
        "id": "AghwOKtnJCoY"
      },
      "execution_count": null,
      "outputs": []
    },
    {
      "cell_type": "code",
      "source": [
        "from scipy.stats import poisson\n",
        "\n",
        "# Parameters for Poisson distribution\n",
        "mu = 3\n",
        "data = poisson.rvs(mu, size=1000)\n",
        "\n",
        "# Plotting the histogram\n",
        "plt.hist(data, bins=max(data)-min(data)+1, density=True, alpha=0.7, color='green')\n",
        "plt.title(\"Poisson Distribution\")\n",
        "plt.xlabel(\"Number of Events\")\n",
        "plt.ylabel(\"Probability\")\n",
        "plt.show()\n"
      ],
      "metadata": {
        "id": "yW3CzBs_JHcg"
      },
      "execution_count": null,
      "outputs": []
    },
    {
      "cell_type": "code",
      "source": [
        "# CDF of discrete uniform distribution\n",
        "data_sorted = np.sort(data)\n",
        "cdf = np.arange(1, len(data_sorted)+1) / len(data_sorted)\n",
        "\n",
        "# Plot CDF\n",
        "plt.step(data_sorted, cdf, color='purple', where='post')\n",
        "plt.title(\"CDF of Discrete Uniform Distribution\")\n",
        "plt.xlabel(\"Value\")\n",
        "plt.ylabel(\"Cumulative Probability\")\n",
        "plt.show()\n"
      ],
      "metadata": {
        "id": "Q1CW-irGJImw"
      },
      "execution_count": null,
      "outputs": []
    },
    {
      "cell_type": "code",
      "source": [
        "from scipy.stats import uniform\n",
        "\n",
        "# Continuous uniform distribution\n",
        "data = uniform.rvs(size=1000)\n",
        "plt.hist(data, bins=20, density=True, color='blue', alpha=0.7)\n",
        "plt.title(\"Continuous Uniform Distribution\")\n",
        "plt.xlabel(\"Value\")\n",
        "plt.ylabel(\"Density\")\n",
        "plt.show()\n"
      ],
      "metadata": {
        "id": "YwWI4j5NJLZi"
      },
      "execution_count": null,
      "outputs": []
    },
    {
      "cell_type": "code",
      "source": [
        "data = np.random.normal(loc=0, scale=1, size=1000)\n",
        "plt.hist(data, bins=30, density=True, color='pink', alpha=0.7)\n",
        "plt.title(\"Normal Distribution Histogram\")\n",
        "plt.xlabel(\"Value\")\n",
        "plt.ylabel(\"Density\")\n",
        "plt.show()\n"
      ],
      "metadata": {
        "id": "gJpgpTJuJNDw"
      },
      "execution_count": null,
      "outputs": []
    },
    {
      "cell_type": "code",
      "source": [
        "from scipy.stats import zscore\n",
        "\n",
        "data = np.random.normal(loc=50, scale=10, size=1000)\n",
        "z_scores = zscore(data)\n",
        "\n",
        "# Plotting\n",
        "plt.hist(z_scores, bins=30, color='red', alpha=0.7)\n",
        "plt.title(\"Z-scores of the Dataset\")\n",
        "plt.xlabel(\"Z-score\")\n",
        "plt.ylabel(\"Frequency\")\n",
        "plt.show()\n"
      ],
      "metadata": {
        "id": "84Lciuk1JSxg"
      },
      "execution_count": null,
      "outputs": []
    },
    {
      "cell_type": "code",
      "source": [
        "# Generating non-normal data\n",
        "data = np.random.exponential(scale=2, size=1000)\n",
        "\n",
        "# Sampling means\n",
        "sample_means = [np.mean(np.random.choice(data, 30)) for _ in range(1000)]\n",
        "\n",
        "# Plot sample means\n",
        "plt.hist(sample_means, bins=30, color='cyan', alpha=0.7)\n",
        "plt.title(\"Central Limit Theorem Demonstration\")\n",
        "plt.xlabel(\"Sample Mean\")\n",
        "plt.ylabel(\"Frequency\")\n",
        "plt.show()\n"
      ],
      "metadata": {
        "id": "GGgOvIv8JUKH"
      },
      "execution_count": null,
      "outputs": []
    },
    {
      "cell_type": "code",
      "source": [
        "import numpy as np\n",
        "from scipy.stats import norm\n",
        "\n",
        "# Generate data from a normal distribution\n",
        "data = np.random.normal(loc=50, scale=10, size=1000)\n",
        "\n",
        "# Calculate the mean and standard error\n",
        "mean = np.mean(data)\n",
        "std_error = np.std(data, ddof=1) / np.sqrt(len(data))\n",
        "\n",
        "# Confidence interval (95%)\n",
        "confidence_level = 0.95\n",
        "z_value = norm.ppf((1 + confidence_level) / 2)\n",
        "margin_of_error = z_value * std_error\n",
        "ci_lower, ci_upper = mean - margin_of_error, mean + margin_of_error\n",
        "\n",
        "print(f\"Mean: {mean:.2f}\")\n",
        "print(f\"Confidence Interval: ({ci_lower:.2f}, {ci_upper:.2f})\")\n"
      ],
      "metadata": {
        "id": "rK6_gdzqJgg5"
      },
      "execution_count": null,
      "outputs": []
    },
    {
      "cell_type": "code",
      "source": [
        "import numpy as np\n",
        "import matplotlib.pyplot as plt\n",
        "from scipy.stats import norm\n",
        "\n",
        "# Standard normal distribution parameters\n",
        "x = np.linspace(-4, 4, 1000)\n",
        "pdf = norm.pdf(x, loc=0, scale=1)\n",
        "\n",
        "# Plotting the standard normal distribution\n",
        "plt.plot(x, pdf, color='blue')\n",
        "plt.title(\"Standard Normal Distribution (Mean=0, Std=1)\")\n",
        "plt.xlabel(\"Z-score\")\n",
        "plt.ylabel(\"Probability Density\")\n",
        "plt.show()\n"
      ],
      "metadata": {
        "id": "y9fAZ8YuJhJD"
      },
      "execution_count": null,
      "outputs": []
    },
    {
      "cell_type": "code",
      "source": [
        "from scipy.stats import binom\n",
        "\n",
        "# Parameters\n",
        "n, p = 10, 0.5\n",
        "\n",
        "# Generate random variables and calculate probabilities\n",
        "data = binom.rvs(n, p, size=1000)\n",
        "probabilities = binom.pmf(range(n + 1), n, p)\n",
        "\n",
        "# Output\n",
        "print(\"Random Variables:\", data[:10])\n",
        "print(\"Probabilities:\", probabilities)\n"
      ],
      "metadata": {
        "id": "h1TUq3Y-JrWh"
      },
      "execution_count": null,
      "outputs": []
    },
    {
      "cell_type": "code",
      "source": [
        "import numpy as np\n",
        "from scipy.stats import zscore\n",
        "\n",
        "# Generate a dataset\n",
        "data = np.random.normal(loc=50, scale=10, size=100)\n",
        "\n",
        "# Calculate Z-score\n",
        "z_scores = zscore(data)\n",
        "\n",
        "# Compare a given data point\n",
        "data_point = 55\n",
        "z_score_point = (data_point - np.mean(data)) / np.std(data)\n",
        "\n",
        "print(f\"Z-scores of dataset: {z_scores[:5]}\")\n",
        "print(f\"Z-score of data point {data_point}: {z_score_point:.2f}\")\n"
      ],
      "metadata": {
        "id": "JgLOBClVJsiJ"
      },
      "execution_count": null,
      "outputs": []
    },
    {
      "cell_type": "code",
      "source": [
        "import numpy as np\n",
        "from scipy.stats import norm\n",
        "\n",
        "# Hypothesis testing using Z-statistics\n",
        "sample_data = np.random.normal(loc=60, scale=10, size=30)\n",
        "sample_mean = np.mean(sample_data)\n",
        "population_mean = 55\n",
        "population_std = 10\n",
        "n = len(sample_data)\n",
        "\n",
        "# Z-test\n",
        "z_stat = (sample_mean - population_mean) / (population_std / np.sqrt(n))\n",
        "p_value = 2 * (1 - norm.cdf(abs(z_stat)))\n",
        "\n",
        "print(f\"Z-statistic: {z_stat:.2f}\")\n",
        "print(f\"P-value: {p_value:.3f}\")\n",
        "if p_value < 0.05:\n",
        "    print(\"Reject the null hypothesis\")\n",
        "else:\n",
        "    print(\"Fail to reject the null hypothesis\")\n"
      ],
      "metadata": {
        "id": "7u0lBFFuMWT-"
      },
      "execution_count": null,
      "outputs": []
    },
    {
      "cell_type": "code",
      "source": [
        "import numpy as np\n",
        "from scipy.stats import norm\n",
        "\n",
        "# Dataset\n",
        "data = np.random.normal(loc=70, scale=15, size=100)\n",
        "\n",
        "# Confidence interval calculation\n",
        "mean = np.mean(data)\n",
        "std_error = np.std(data, ddof=1) / np.sqrt(len(data))\n",
        "\n",
        "# 95% confidence interval\n",
        "z_value = norm.ppf(0.975)\n",
        "margin_of_error = z_value * std_error\n",
        "ci_lower, ci_upper = mean - margin_of_error, mean + margin_of_error\n",
        "\n",
        "print(f\"Mean: {mean:.2f}\")\n",
        "print(f\"95% Confidence Interval: ({ci_lower:.2f}, {ci_upper:.2f})\")\n"
      ],
      "metadata": {
        "id": "ZnHPDTSaMYp4"
      },
      "execution_count": null,
      "outputs": []
    },
    {
      "cell_type": "code",
      "source": [
        "import numpy as np\n",
        "from scipy.stats import norm\n",
        "import matplotlib.pyplot as plt\n",
        "\n",
        "# Normal distribution\n",
        "mean, std_dev = 0, 1\n",
        "x = np.linspace(-4, 4, 1000)\n",
        "pdf = norm.pdf(x, loc=mean, scale=std_dev)\n",
        "\n",
        "# Plot PDF\n",
        "plt.plot(x, pdf, color='blue')\n",
        "plt.title(\"Probability Density Function of Normal Distribution\")\n",
        "plt.xlabel(\"Value\")\n",
        "plt.ylabel(\"Probability Density\")\n",
        "plt.show()\n"
      ],
      "metadata": {
        "id": "xz_hiBFmMZ9x"
      },
      "execution_count": null,
      "outputs": []
    },
    {
      "cell_type": "code",
      "source": [
        "from scipy.stats import poisson\n",
        "\n",
        "# Parameters\n",
        "mu = 3\n",
        "x = 4\n",
        "\n",
        "# CDF of Poisson distribution\n",
        "cdf = poisson.cdf(x, mu)\n",
        "print(f\"CDF for x = {x} in Poisson distribution with mu = {mu}: {cdf:.4f}\")\n"
      ],
      "metadata": {
        "id": "QmebSw3VMbTX"
      },
      "execution_count": null,
      "outputs": []
    },
    {
      "cell_type": "code",
      "source": [
        "import numpy as np\n",
        "\n",
        "# Continuous uniform distribution\n",
        "data = np.random.uniform(0, 1, 1000)\n",
        "\n",
        "# Expected value\n",
        "expected_value = np.mean(data)\n",
        "print(f\"Expected Value: {expected_value:.2f}\")\n"
      ],
      "metadata": {
        "id": "Oe-K0xLxMdMH"
      },
      "execution_count": null,
      "outputs": []
    },
    {
      "cell_type": "code",
      "source": [
        "import numpy as np\n",
        "import matplotlib.pyplot as plt\n",
        "\n",
        "# Generate two datasets\n",
        "data1 = np.random.normal(50, 10, 100)\n",
        "data2 = np.random.normal(70, 15, 100)\n",
        "\n",
        "# Calculate standard deviations\n",
        "std1, std2 = np.std(data1, ddof=1), np.std(data2, ddof=1)\n",
        "\n",
        "# Plot histograms\n",
        "plt.hist(data1, alpha=0.5, label=f\"Data1 (std={std1:.2f})\")\n",
        "plt.hist(data2, alpha=0.5, label=f\"Data2 (std={std2:.2f})\")\n",
        "plt.legend()\n",
        "plt.title(\"Comparison of Standard Deviations\")\n",
        "plt.show()\n"
      ],
      "metadata": {
        "id": "i46M8nCpMey5"
      },
      "execution_count": null,
      "outputs": []
    },
    {
      "cell_type": "code",
      "source": [
        "import numpy as np\n",
        "from scipy.stats import norm\n",
        "\n",
        "# Generate data\n",
        "data = np.random.normal(loc=100, scale=15, size=500)\n",
        "\n",
        "# Calculate mean and standard error\n",
        "mean = np.mean(data)\n",
        "std_error = np.std(data, ddof=1) / np.sqrt(len(data))\n",
        "\n",
        "# Confidence interval (95%)\n",
        "confidence_level = 0.95\n",
        "z_value = norm.ppf((1 + confidence_level) / 2)\n",
        "margin_of_error = z_value * std_error\n",
        "ci_lower, ci_upper = mean - margin_of_error, mean + margin_of_error\n",
        "\n",
        "print(f\"Mean: {mean:.2f}\")\n",
        "print(f\"95% Confidence Interval: ({ci_lower:.2f}, {ci_upper:.2f})\")\n"
      ],
      "metadata": {
        "id": "rN-K9-8jMgx5"
      },
      "execution_count": null,
      "outputs": []
    },
    {
      "cell_type": "code",
      "source": [
        "import numpy as np\n",
        "from scipy.stats import norm\n",
        "import matplotlib.pyplot as plt\n",
        "\n",
        "# Normal distribution parameters\n",
        "mean, std_dev = 0, 1\n",
        "x = np.linspace(-4, 4, 1000)\n",
        "pdf = norm.pdf(x, loc=mean, scale=std_dev)\n",
        "\n",
        "# Plot PDF\n",
        "plt.plot(x, pdf, color='blue')\n",
        "plt.title(\"Probability Density Function of Normal Distribution\")\n",
        "plt.xlabel(\"X-values\")\n",
        "plt.ylabel(\"Probability Density\")\n",
        "plt.show()\n"
      ],
      "metadata": {
        "id": "h04JeeFUMp1a"
      },
      "execution_count": null,
      "outputs": []
    },
    {
      "cell_type": "code",
      "source": [
        "from scipy.stats import poisson\n",
        "\n",
        "# Parameters\n",
        "mu = 4\n",
        "x = 6\n",
        "\n",
        "# Calculate the CDF\n",
        "cdf = poisson.cdf(x, mu)\n",
        "print(f\"CDF for x = {x} in Poisson distribution with mean (mu) = {mu}: {cdf:.4f}\")\n"
      ],
      "metadata": {
        "id": "fHJap2h6Msi4"
      },
      "execution_count": null,
      "outputs": []
    },
    {
      "cell_type": "code",
      "source": [
        "import numpy as np\n",
        "\n",
        "# Simulate random variable\n",
        "data = np.random.uniform(low=10, high=20, size=1000)\n",
        "\n",
        "# Calculate expected value\n",
        "expected_value = np.mean(data)\n",
        "print(f\"Expected Value: {expected_value:.2f}\")\n"
      ],
      "metadata": {
        "id": "CTEUZ16LMtPW"
      },
      "execution_count": null,
      "outputs": []
    },
    {
      "cell_type": "code",
      "source": [
        "import numpy as np\n",
        "import matplotlib.pyplot as plt\n",
        "\n",
        "# Generate two datasets\n",
        "data1 = np.random.normal(loc=50, scale=10, size=500)\n",
        "data2 = np.random.normal(loc=70, scale=15, size=500)\n",
        "\n",
        "# Calculate standard deviations\n",
        "std1 = np.std(data1, ddof=1)\n",
        "std2 = np.std(data2, ddof=1)\n",
        "\n",
        "# Plot histograms\n",
        "plt.hist(data1, bins=20, alpha=0.5, label=f\"Data1 (Std: {std1:.2f})\", color='blue')\n",
        "plt.hist(data2, bins=20, alpha=0.5, label=f\"Data2 (Std: {std2:.2f})\", color='green')\n",
        "plt.title(\"Comparison of Standard Deviations\")\n",
        "plt.xlabel(\"Values\")\n",
        "plt.ylabel(\"Frequency\")\n",
        "plt.legend()\n",
        "plt.show()\n"
      ],
      "metadata": {
        "id": "oBtw2GyWMwTn"
      },
      "execution_count": null,
      "outputs": []
    },
    {
      "cell_type": "code",
      "source": [
        "import numpy as np\n",
        "\n",
        "# Generate dataset\n",
        "data = np.random.normal(loc=60, scale=12, size=500)\n",
        "\n",
        "# Calculate range and IQR\n",
        "data_range = np.max(data) - np.min(data)\n",
        "q1, q3 = np.percentile(data, [25, 75])\n",
        "iqr = q3 - q1\n",
        "\n",
        "print(f\"Range: {data_range:.2f}\")\n",
        "print(f\"Interquartile Range (IQR): {iqr:.2f}\")\n"
      ],
      "metadata": {
        "id": "nxjpdrhkMx2R"
      },
      "execution_count": null,
      "outputs": []
    },
    {
      "cell_type": "code",
      "source": [
        "import numpy as np\n",
        "import matplotlib.pyplot as plt\n",
        "from scipy.stats import zscore\n",
        "\n",
        "# Generate dataset\n",
        "data = np.random.normal(loc=70, scale=15, size=500)\n",
        "\n",
        "# Z-score normalization\n",
        "normalized_data = zscore(data)\n",
        "\n",
        "# Plot original and normalized datasets\n",
        "plt.figure(figsize=(10, 5))\n",
        "plt.subplot(1, 2, 1)\n",
        "plt.hist(data, bins=20, color='blue', alpha=0.7, label='Original Data')\n",
        "plt.title(\"Original Data\")\n",
        "plt.legend()\n",
        "\n",
        "plt.subplot(1, 2, 2)\n",
        "plt.hist(normalized_data, bins=20, color='green', alpha=0.7, label='Z-score Normalized Data')\n",
        "plt.title(\"Normalized Data\")\n",
        "plt.legend()\n",
        "\n",
        "plt.tight_layout()\n",
        "plt.show()\n"
      ],
      "metadata": {
        "id": "tqkxBnH0Mzpv"
      },
      "execution_count": null,
      "outputs": []
    },
    {
      "cell_type": "code",
      "source": [
        "import numpy as np\n",
        "from scipy.stats import skew, kurtosis\n",
        "\n",
        "# Generate dataset\n",
        "data = np.random.normal(loc=50, scale=10, size=500)\n",
        "\n",
        "# Calculate skewness and kurtosis\n",
        "data_skewness = skew(data)\n",
        "data_kurtosis = kurtosis(data)\n",
        "\n",
        "print(f\"Skewness: {data_skewness:.2f}\")\n",
        "print(f\"Kurtosis: {data_kurtosis:.2f}\")\n"
      ],
      "metadata": {
        "id": "PnoGs3HZM1VI"
      },
      "execution_count": null,
      "outputs": []
    }
  ]
}