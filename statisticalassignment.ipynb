{
  "nbformat": 4,
  "nbformat_minor": 0,
  "metadata": {
    "colab": {
      "private_outputs": true,
      "provenance": [],
      "authorship_tag": "ABX9TyPeySP2/pM+OlvTxi/WPW0c",
      "include_colab_link": true
    },
    "kernelspec": {
      "name": "python3",
      "display_name": "Python 3"
    },
    "language_info": {
      "name": "python"
    }
  },
  "cells": [
    {
      "cell_type": "markdown",
      "metadata": {
        "id": "view-in-github",
        "colab_type": "text"
      },
      "source": [
        "<a href=\"https://colab.research.google.com/github/NITISHKUMAR308/statistics-/blob/main/statisticalassignment.ipynb\" target=\"_parent\"><img src=\"https://colab.research.google.com/assets/colab-badge.svg\" alt=\"Open In Colab\"/></a>"
      ]
    },
    {
      "cell_type": "markdown",
      "source": [
        "### 1. **Types of Data: Qualitative and Quantitative**\n",
        "   - **Qualitative (Categorical)**: Non-numeric data representing categories or labels.\n",
        "     - **Examples**: Colors of cars (red, blue, green), types of cuisine (Italian, Chinese).\n",
        "   - **Quantitative (Numerical)**: Numeric data representing measurable quantities.\n",
        "     - **Examples**: Height (in cm), test scores (out of 100).\n",
        "\n",
        "   - **Scales of Measurement**:\n",
        "     - **Nominal**: Categories without a meaningful order (e.g., types of fruits: apple, banana).\n",
        "     - **Ordinal**: Categories with a meaningful order, but no consistent difference between ranks (e.g., satisfaction levels: poor, good, excellent).\n",
        "     - **Interval**: Numeric scales with equal intervals but no true zero (e.g., temperature in Celsius).\n",
        "     - **Ratio**: Numeric scales with a true zero, allowing ratios to be meaningful (e.g., weight in kg).\n",
        "\n",
        "---\n",
        "\n",
        "### 2. **Measures of Central Tendency**\n",
        "   - **Mean**: Average value. Use when data is symmetric and without extreme outliers.\n",
        "     - **Example**: Average test score.\n",
        "   - **Median**: Middle value when data is sorted. Use when data has outliers.\n",
        "     - **Example**: Median income in a region.\n",
        "   - **Mode**: Most frequently occurring value. Use for categorical data or to identify peaks in numerical data.\n",
        "     - **Example**: Most common shoe size.\n",
        "\n",
        "---\n",
        "\n",
        "### 3. **Concept of Dispersion**\n",
        "   - **Dispersion**: Indicates the spread of data points.\n",
        "     - **Variance**: Average of squared deviations from the mean.\n",
        "     - **Standard Deviation**: Square root of variance; shows spread in the same units as the data.\n",
        "   - **Example**: In a dataset of exam scores, a high standard deviation indicates widely varying scores.\n",
        "\n",
        "---\n",
        "\n",
        "### 4. **Box Plot**\n",
        "   - **Definition**: A graphical summary using five-number summary (minimum, Q1, median, Q3, maximum).\n",
        "   - **Insights**: Identifies the spread, central tendency, and outliers.\n",
        "\n",
        "---\n",
        "\n",
        "### 5. **Random Sampling**\n",
        "   - Ensures every individual in the population has an equal chance of selection.\n",
        "   - **Role**: Reduces bias and enables generalization to the population.\n",
        "\n",
        "---\n",
        "\n",
        "### 6. **Skewness**\n",
        "   - **Concept**: Measures data asymmetry.\n",
        "     - **Positive Skew**: Tail on the right (e.g., income data with a few very high incomes).\n",
        "     - **Negative Skew**: Tail on the left (e.g., exam scores where most scored high).\n",
        "   - **Impact**: Skewness affects the choice of central tendency (e.g., median over mean in skewed data).\n",
        "\n",
        "---\n",
        "\n",
        "### 7. **Interquartile Range (IQR)**\n",
        "   - **Definition**: Difference between Q3 (75th percentile) and Q1 (25th percentile).\n",
        "   - **Use**: Identifies outliers using the rule: values below \\( Q1 - 1.5 \\times IQR \\) or above \\( Q3 + 1.5 \\times IQR \\).\n",
        "\n",
        "---\n",
        "\n",
        "### 8. **Binomial Distribution**\n",
        "   - **Conditions**:\n",
        "     - Fixed number of trials.\n",
        "     - Each trial has two outcomes (success/failure).\n",
        "     - Constant probability of success.\n",
        "   - **Example**: Flipping a coin 10 times to count heads.\n",
        "\n",
        "---\n",
        "\n",
        "### 9. **Normal Distribution and Empirical Rule**\n",
        "   - **Properties**: Symmetrical, bell-shaped curve with mean = median = mode.\n",
        "   - **Empirical Rule**:\n",
        "     - 68% of data within 1 standard deviation.\n",
        "     - 95% within 2 standard deviations.\n",
        "     - 99.7% within 3 standard deviations.\n",
        "\n",
        "---\n"
      ],
      "metadata": {
        "id": "1ywW1WkqoKoT"
      }
    },
    {
      "cell_type": "markdown",
      "source": [
        "### 10. **Poisson Process**\n",
        "   - **Example**: Number of customer arrivals at a store per hour.\n",
        "   - **Calculation**: If the average is 5 arrivals/hour, the probability of 7 arrivals:\n",
        "     \\[\n",
        "    "
      ],
      "metadata": {
        "id": "PzBWFZBCub0v"
      }
    },
    {
      "cell_type": "code",
      "source": [
        "import math\n",
        "lambda_value = 5\n",
        "x = 7\n",
        "P_X_7 = (lambda_value ** x) * math.exp(-lambda_value) / math.factorial(x)\n",
        "print(f\"P(X = 7) = {P_X_7:.6f}\")"
      ],
      "metadata": {
        "id": "cMMHGrwquWUH"
      },
      "execution_count": null,
      "outputs": []
    },
    {
      "cell_type": "markdown",
      "source": [
        "\n",
        "---\n",
        "\n",
        "### 11. **Random Variables**\n",
        "   - **Definition**: Variables whose outcomes are determined by chance.\n",
        "     - **Discrete**: Countable outcomes (e.g., number of heads in 10 coin flips).\n",
        "     - **Continuous**: Infinite outcomes (e.g., time taken to run a race).\n",
        "\n",
        "---\n",
        "\n",
        "### 12. **Covariance and Correlation**\n",
        "   - **Example Dataset**:\n",
        "     \\[X = [2, 4, 6], \\, Y = [3, 6, 9]\\]\n",
        "   - **Covariance**:\n",
        "     \\[\\text{Cov(X, Y)} = \\frac{\\sum{(X_i - \\bar{X})(Y_i - \\bar{Y})}}{n-1}\\]\n",
        "   - **Correlation**: Standardized measure (\\(-1\\) to \\(1\\)) indicating strength and direction of relationship.\n",
        "     \\[\\text{Correlation} = \\frac{\\text{Cov(X, Y)}}{\\sigma_X \\cdot \\sigma_Y}   \\]\n",
        "   - **Interpretation**: A positive value indicates a direct relationship, and a negative value indicates an inverse relationship."
      ],
      "metadata": {
        "id": "vx0-dcosuQin"
      }
    }
  ]
}